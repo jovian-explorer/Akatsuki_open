{
 "cells": [
  {
   "cell_type": "code",
   "execution_count": null,
   "metadata": {},
   "outputs": [],
   "source": [
    "import matplotlib.pyplot as plt\n",
    "import cartopy.crs as ccrs\n",
    "from cartopy.feature import NaturalEarthFeature\n",
    "\n",
    "# Create a new figure and axis with the desired projection\n",
    "fig, ax = plt.subplots(figsize=(10, 6), subplot_kw={'projection': ccrs.PlateCarree()})\n",
    "\n",
    "# Draw coastlines and countries\n",
    "ax.add_feature(NaturalEarthFeature(category='physical', name='coastline', scale='50m', edgecolor='black', facecolor='none'))\n",
    "ax.add_feature(NaturalEarthFeature(category='cultural', name='admin_0_countries', scale='50m', edgecolor='black', facecolor='none'))\n",
    "\n",
    "# Define the locations and their coordinates\n",
    "locations = {\n",
    "    'UDSC64': (138.362222, 36.133056),\n",
    "    'IDSN32': (77.368056, 12.901667)\n",
    "}\n",
    "\n",
    "# Mark the locations on the map\n",
    "for location, (lon, lat) in locations.items():\n",
    "    ax.plot(lon, lat, 'ro', markersize=5, transform=ccrs.PlateCarree())\n",
    "    ax.text(lon + 1, lat + 1, location, transform=ccrs.PlateCarree())\n",
    "\n",
    "# Set the extent of the map to focus on Asia\n",
    "ax.set_extent([70, 150, -5, 50], crs=ccrs.PlateCarree())\n",
    "\n",
    "# Add latitude and longitude ticks\n",
    "ax.set_xticks(range(70, 151, 20), crs=ccrs.PlateCarree())\n",
    "ax.set_yticks(range(-5, 51, 20), crs=ccrs.PlateCarree())\n",
    "ax.tick_params(axis='both', labelsize=8)\n",
    "\n",
    "# Show the plot\n",
    "plt.show()\n"
   ]
  }
 ],
 "metadata": {
  "language_info": {
   "name": "python"
  },
  "orig_nbformat": 4
 },
 "nbformat": 4,
 "nbformat_minor": 2
}
